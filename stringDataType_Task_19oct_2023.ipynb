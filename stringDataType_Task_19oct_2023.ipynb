{
 "cells": [
  {
   "cell_type": "markdown",
   "id": "68d579c1",
   "metadata": {},
   "source": [
    "# String"
   ]
  },
  {
   "cell_type": "markdown",
   "id": "115c4798",
   "metadata": {},
   "source": [
    "## Things covered Today\n",
    " * Find\n",
    " * rfind\n",
    " * count\n",
    " * Index\n",
    " * rindex\n",
    " * Replace\n",
    " * Split\n",
    " * rsplit\n",
    " * Partition\n",
    " * rpartition\n",
    " * Splitlines"
   ]
  },
  {
   "cell_type": "markdown",
   "id": "27122c80",
   "metadata": {},
   "source": [
    "### Find\n",
    "\n",
    "* This method is used to find index of any particular charactor.\n",
    "* find always tells the index from left to right of that particular string.\n",
    "* If we specify about index from which we need to find, we can mention that also."
   ]
  },
  {
   "cell_type": "markdown",
   "id": "c0991e1a",
   "metadata": {},
   "source": [
    "#### Here is example of find()"
   ]
  },
  {
   "cell_type": "code",
   "execution_count": 8,
   "id": "6c79d709",
   "metadata": {},
   "outputs": [
    {
     "data": {
      "text/plain": [
       "'betty botter bought some butter\\nbut she said the butter’s bitter\\nif i put it in my batter, it will make my batter bitter\\nbut a bit of better butter will make my batter better\\nso ‘twas better betty botter bought a bit of better butter'"
      ]
     },
     "execution_count": 8,
     "metadata": {},
     "output_type": "execute_result"
    }
   ],
   "source": [
    "x = '''Betty Botter bought some butter\n",
    "But she said the butter’s bitter\n",
    "If I put it in my batter, it will make my batter bitter\n",
    "But a bit of better butter will make my batter better\n",
    "So ‘twas better Betty Botter bought a bit of better butter'''\n",
    "x\n",
    "xl = x.lower() #lowercases the string\n",
    "xl\n",
    "\n",
    "#We will operate methods on xl"
   ]
  },
  {
   "cell_type": "code",
   "execution_count": 10,
   "id": "d0329726",
   "metadata": {},
   "outputs": [
    {
     "data": {
      "text/plain": [
       "4"
      ]
     },
     "execution_count": 10,
     "metadata": {},
     "output_type": "execute_result"
    }
   ],
   "source": [
    "xl.find('y')"
   ]
  },
  {
   "cell_type": "markdown",
   "id": "30db0236",
   "metadata": {},
   "source": [
    "##### document of find()"
   ]
  },
  {
   "cell_type": "code",
   "execution_count": 5,
   "id": "e1656c59",
   "metadata": {},
   "outputs": [
    {
     "name": "stdout",
     "output_type": "stream",
     "text": [
      "Help on built-in function find:\n",
      "\n",
      "find(...) method of builtins.str instance\n",
      "    S.find(sub[, start[, end]]) -> int\n",
      "    \n",
      "    Return the lowest index in S where substring sub is found,\n",
      "    such that sub is contained within S[start:end].  Optional\n",
      "    arguments start and end are interpreted as in slice notation.\n",
      "    \n",
      "    Return -1 on failure.\n",
      "\n"
     ]
    }
   ],
   "source": [
    "help(xl.find)"
   ]
  },
  {
   "cell_type": "markdown",
   "id": "5ea154ce",
   "metadata": {},
   "source": [
    "* it says that for this we need to code find(subs, start, end)\n",
    "  returns the lowest or ery first index of the substring or char.\n",
    "  returns -1 on failure or if doesnot find"
   ]
  },
  {
   "cell_type": "code",
   "execution_count": 11,
   "id": "a7829a5e",
   "metadata": {},
   "outputs": [
    {
     "data": {
      "text/plain": [
       "20"
      ]
     },
     "execution_count": 11,
     "metadata": {},
     "output_type": "execute_result"
    }
   ],
   "source": [
    "# For example if we find again\n",
    "xl.find('some')"
   ]
  },
  {
   "cell_type": "code",
   "execution_count": 12,
   "id": "f4933b30",
   "metadata": {},
   "outputs": [
    {
     "data": {
      "text/plain": [
       "-1"
      ]
     },
     "execution_count": 12,
     "metadata": {},
     "output_type": "execute_result"
    }
   ],
   "source": [
    "xl.find('z') # gives -1 because 'z' is not present in the string"
   ]
  },
  {
   "cell_type": "markdown",
   "id": "ca155bf8",
   "metadata": {},
   "source": [
    "## rfind\n",
    "\n",
    "* Works exactly like find but from right to left of the string\n",
    "\n",
    "\n",
    "#### Document of rfind()"
   ]
  },
  {
   "cell_type": "code",
   "execution_count": 13,
   "id": "074e5735",
   "metadata": {},
   "outputs": [
    {
     "name": "stdout",
     "output_type": "stream",
     "text": [
      "Help on built-in function rfind:\n",
      "\n",
      "rfind(...) method of builtins.str instance\n",
      "    S.rfind(sub[, start[, end]]) -> int\n",
      "    \n",
      "    Return the highest index in S where substring sub is found,\n",
      "    such that sub is contained within S[start:end].  Optional\n",
      "    arguments start and end are interpreted as in slice notation.\n",
      "    \n",
      "    Return -1 on failure.\n",
      "\n"
     ]
    }
   ],
   "source": [
    "help(xl.rfind)"
   ]
  },
  {
   "cell_type": "markdown",
   "id": "eb3c9abc",
   "metadata": {},
   "source": [
    "#### Example of rfind"
   ]
  },
  {
   "cell_type": "code",
   "execution_count": 14,
   "id": "73280bad",
   "metadata": {},
   "outputs": [
    {
     "data": {
      "text/plain": [
       "'betty botter bought some butter\\nbut she said the butter’s bitter\\nif i put it in my batter, it will make my batter bitter\\nbut a bit of better butter will make my batter better\\nso ‘twas better betty botter bought a bit of better butter'"
      ]
     },
     "execution_count": 14,
     "metadata": {},
     "output_type": "execute_result"
    }
   ],
   "source": [
    "xl"
   ]
  },
  {
   "cell_type": "markdown",
   "id": "aab749c8",
   "metadata": {},
   "source": [
    "* <u>gives only positive index but find a particular char or substring from right to left of the string </u>"
   ]
  },
  {
   "cell_type": "code",
   "execution_count": 15,
   "id": "6ca21c67",
   "metadata": {},
   "outputs": [
    {
     "data": {
      "text/plain": [
       "211"
      ]
     },
     "execution_count": 15,
     "metadata": {},
     "output_type": "execute_result"
    }
   ],
   "source": [
    "xl.rfind('a')"
   ]
  },
  {
   "cell_type": "code",
   "execution_count": 16,
   "id": "84aec4d1",
   "metadata": {},
   "outputs": [
    {
     "data": {
      "text/plain": [
       "204"
      ]
     },
     "execution_count": 16,
     "metadata": {},
     "output_type": "execute_result"
    }
   ],
   "source": [
    "xl.rfind('bought')"
   ]
  },
  {
   "cell_type": "markdown",
   "id": "601a584a",
   "metadata": {},
   "source": [
    "## Count\n",
    "\n",
    "* it helps to find the occurance of particular substring in the given string.\n",
    "* execution is S.count('subs', start, end)"
   ]
  },
  {
   "cell_type": "markdown",
   "id": "bc03edf2",
   "metadata": {},
   "source": [
    "#### Document of count"
   ]
  },
  {
   "cell_type": "code",
   "execution_count": 20,
   "id": "6dca18c5",
   "metadata": {},
   "outputs": [
    {
     "name": "stdout",
     "output_type": "stream",
     "text": [
      "Help on built-in function count:\n",
      "\n",
      "count(...) method of builtins.str instance\n",
      "    S.count(sub[, start[, end]]) -> int\n",
      "    \n",
      "    Return the number of non-overlapping occurrences of substring sub in\n",
      "    string S[start:end].  Optional arguments start and end are\n",
      "    interpreted as in slice notation.\n",
      "\n"
     ]
    }
   ],
   "source": [
    "help(xl.count)"
   ]
  },
  {
   "cell_type": "markdown",
   "id": "8e5efce4",
   "metadata": {},
   "source": [
    "##### Here is the example of count"
   ]
  },
  {
   "cell_type": "code",
   "execution_count": 17,
   "id": "cc02a618",
   "metadata": {},
   "outputs": [
    {
     "data": {
      "text/plain": [
       "'betty botter bought some butter\\nbut she said the butter’s bitter\\nif i put it in my batter, it will make my batter bitter\\nbut a bit of better butter will make my batter better\\nso ‘twas better betty botter bought a bit of better butter'"
      ]
     },
     "execution_count": 17,
     "metadata": {},
     "output_type": "execute_result"
    }
   ],
   "source": [
    "xl"
   ]
  },
  {
   "cell_type": "code",
   "execution_count": 19,
   "id": "a3633046",
   "metadata": {},
   "outputs": [
    {
     "data": {
      "text/plain": [
       "2"
      ]
     },
     "execution_count": 19,
     "metadata": {},
     "output_type": "execute_result"
    }
   ],
   "source": [
    "xl.count('bought')"
   ]
  },
  {
   "cell_type": "markdown",
   "id": "aa4cd5fa",
   "metadata": {},
   "source": [
    " Hence bought is coming 2 times in given string"
   ]
  },
  {
   "cell_type": "markdown",
   "id": "4cdf1a46",
   "metadata": {},
   "source": [
    "## Index\n",
    "\n",
    "* Index is used to find the index of that particular substring of a string.\n",
    "* This works from left to right of a string and gives the first occuring index of that string\n",
    "* this exactly works like <u>find</u> method but in failure it gives an error\n",
    "\n",
    "\n",
    "#### Document of index"
   ]
  },
  {
   "cell_type": "code",
   "execution_count": 21,
   "id": "45ff5798",
   "metadata": {},
   "outputs": [
    {
     "name": "stdout",
     "output_type": "stream",
     "text": [
      "Help on built-in function index:\n",
      "\n",
      "index(...) method of builtins.str instance\n",
      "    S.index(sub[, start[, end]]) -> int\n",
      "    \n",
      "    Return the lowest index in S where substring sub is found,\n",
      "    such that sub is contained within S[start:end].  Optional\n",
      "    arguments start and end are interpreted as in slice notation.\n",
      "    \n",
      "    Raises ValueError when the substring is not found.\n",
      "\n"
     ]
    }
   ],
   "source": [
    "help(xl.index)"
   ]
  },
  {
   "cell_type": "markdown",
   "id": "7277961d",
   "metadata": {},
   "source": [
    "#### Here is an example of index"
   ]
  },
  {
   "cell_type": "code",
   "execution_count": 22,
   "id": "10d0e65e",
   "metadata": {},
   "outputs": [
    {
     "data": {
      "text/plain": [
       "'betty botter bought some butter\\nbut she said the butter’s bitter\\nif i put it in my batter, it will make my batter bitter\\nbut a bit of better butter will make my batter better\\nso ‘twas better betty botter bought a bit of better butter'"
      ]
     },
     "execution_count": 22,
     "metadata": {},
     "output_type": "execute_result"
    }
   ],
   "source": [
    "xl"
   ]
  },
  {
   "cell_type": "code",
   "execution_count": 23,
   "id": "8c4bf0a1",
   "metadata": {},
   "outputs": [
    {
     "data": {
      "text/plain": [
       "36"
      ]
     },
     "execution_count": 23,
     "metadata": {},
     "output_type": "execute_result"
    }
   ],
   "source": [
    "xl.index('she')"
   ]
  },
  {
   "cell_type": "code",
   "execution_count": 24,
   "id": "3ef4bb61",
   "metadata": {},
   "outputs": [
    {
     "data": {
      "text/plain": [
       "15"
      ]
     },
     "execution_count": 24,
     "metadata": {},
     "output_type": "execute_result"
    }
   ],
   "source": [
    "xl.index('u')"
   ]
  },
  {
   "cell_type": "markdown",
   "id": "8279af48",
   "metadata": {},
   "source": [
    "## rindex\n",
    " * This gives index from right to left from the string.\n",
    " * This exactly works like rfind except in failure it throws an error\n",
    " \n",
    " \n",
    "#### Doc of rindex "
   ]
  },
  {
   "cell_type": "code",
   "execution_count": 25,
   "id": "2dd6df86",
   "metadata": {},
   "outputs": [
    {
     "name": "stdout",
     "output_type": "stream",
     "text": [
      "Help on built-in function rindex:\n",
      "\n",
      "rindex(...) method of builtins.str instance\n",
      "    S.rindex(sub[, start[, end]]) -> int\n",
      "    \n",
      "    Return the highest index in S where substring sub is found,\n",
      "    such that sub is contained within S[start:end].  Optional\n",
      "    arguments start and end are interpreted as in slice notation.\n",
      "    \n",
      "    Raises ValueError when the substring is not found.\n",
      "\n"
     ]
    }
   ],
   "source": [
    "help(xl.rindex)"
   ]
  },
  {
   "cell_type": "markdown",
   "id": "f76df600",
   "metadata": {},
   "source": [
    "#### Example of rindex()"
   ]
  },
  {
   "cell_type": "code",
   "execution_count": 26,
   "id": "acc0a765",
   "metadata": {},
   "outputs": [
    {
     "data": {
      "text/plain": [
       "'betty botter bought some butter\\nbut she said the butter’s bitter\\nif i put it in my batter, it will make my batter bitter\\nbut a bit of better butter will make my batter better\\nso ‘twas better betty botter bought a bit of better butter'"
      ]
     },
     "execution_count": 26,
     "metadata": {},
     "output_type": "execute_result"
    }
   ],
   "source": [
    "xl"
   ]
  },
  {
   "cell_type": "code",
   "execution_count": 28,
   "id": "1f876d4f",
   "metadata": {},
   "outputs": [
    {
     "data": {
      "text/plain": [
       "217"
      ]
     },
     "execution_count": 28,
     "metadata": {},
     "output_type": "execute_result"
    }
   ],
   "source": [
    "xl.rindex('of')"
   ]
  },
  {
   "cell_type": "markdown",
   "id": "554e3560",
   "metadata": {},
   "source": [
    "## Replace\n",
    "\n",
    "* In this method we can replace any substring by whatever we want to\n",
    "* we can code s.replace('old char', 'new char')"
   ]
  },
  {
   "cell_type": "markdown",
   "id": "dcaed018",
   "metadata": {},
   "source": [
    "#### Doc of replace()"
   ]
  },
  {
   "cell_type": "code",
   "execution_count": 29,
   "id": "6a60ef25",
   "metadata": {},
   "outputs": [
    {
     "name": "stdout",
     "output_type": "stream",
     "text": [
      "Help on built-in function replace:\n",
      "\n",
      "replace(old, new, count=-1, /) method of builtins.str instance\n",
      "    Return a copy with all occurrences of substring old replaced by new.\n",
      "    \n",
      "      count\n",
      "        Maximum number of occurrences to replace.\n",
      "        -1 (the default value) means replace all occurrences.\n",
      "    \n",
      "    If the optional argument count is given, only the first count occurrences are\n",
      "    replaced.\n",
      "\n"
     ]
    }
   ],
   "source": [
    "help(xl.replace)"
   ]
  },
  {
   "cell_type": "markdown",
   "id": "216a8a56",
   "metadata": {},
   "source": [
    "#### Example of replace"
   ]
  },
  {
   "cell_type": "code",
   "execution_count": 30,
   "id": "469a6abb",
   "metadata": {},
   "outputs": [
    {
     "data": {
      "text/plain": [
       "'betty botter bought some butter\\nbut she said the butter’s bitter\\nif i put it in my batter, it will make my batter bitter\\nbut a bit of better butter will make my batter better\\nso ‘twas better betty botter bought a bit of better butter'"
      ]
     },
     "execution_count": 30,
     "metadata": {},
     "output_type": "execute_result"
    }
   ],
   "source": [
    "xl"
   ]
  },
  {
   "cell_type": "code",
   "execution_count": 31,
   "id": "79cdd6a4",
   "metadata": {},
   "outputs": [
    {
     "data": {
      "text/plain": [
       "'betty botter bought some bubble\\nbut she said the bubble’s bitter\\nif i put it in my batter, it will make my batter bitter\\nbut a bit of better bubble will make my batter better\\nso ‘twas better betty botter bought a bit of better bubble'"
      ]
     },
     "execution_count": 31,
     "metadata": {},
     "output_type": "execute_result"
    }
   ],
   "source": [
    "xl.replace('butter', 'bubble')"
   ]
  },
  {
   "cell_type": "code",
   "execution_count": 32,
   "id": "eae627d8",
   "metadata": {},
   "outputs": [
    {
     "data": {
      "text/plain": [
       "'MalayalaM'"
      ]
     },
     "execution_count": 32,
     "metadata": {},
     "output_type": "execute_result"
    }
   ],
   "source": [
    "m = 'malayalam'\n",
    "m.replace('m', 'M')"
   ]
  },
  {
   "cell_type": "markdown",
   "id": "2d3d2971",
   "metadata": {},
   "source": [
    "## Split\n",
    "\n",
    "* Splits from each space gap of string.\n",
    "* We can code for split S.split(sep=none, maxsplit=-1)\n",
    "* We can add maxsplit by putting no of splits or breaks we want.\n",
    "\n",
    "#### Doc of split()"
   ]
  },
  {
   "cell_type": "code",
   "execution_count": 33,
   "id": "730a1f58",
   "metadata": {},
   "outputs": [
    {
     "name": "stdout",
     "output_type": "stream",
     "text": [
      "Help on built-in function split:\n",
      "\n",
      "split(sep=None, maxsplit=-1) method of builtins.str instance\n",
      "    Return a list of the substrings in the string, using sep as the separator string.\n",
      "    \n",
      "      sep\n",
      "        The separator used to split the string.\n",
      "    \n",
      "        When set to None (the default value), will split on any whitespace\n",
      "        character (including \\\\n \\\\r \\\\t \\\\f and spaces) and will discard\n",
      "        empty strings from the result.\n",
      "      maxsplit\n",
      "        Maximum number of splits (starting from the left).\n",
      "        -1 (the default value) means no limit.\n",
      "    \n",
      "    Note, str.split() is mainly useful for data that has been intentionally\n",
      "    delimited.  With natural text that includes punctuation, consider using\n",
      "    the regular expression module.\n",
      "\n"
     ]
    }
   ],
   "source": [
    "help(xl.split)"
   ]
  },
  {
   "cell_type": "markdown",
   "id": "74ab197a",
   "metadata": {},
   "source": [
    "#### Example of Split\n"
   ]
  },
  {
   "cell_type": "code",
   "execution_count": 35,
   "id": "b4eecfb8",
   "metadata": {},
   "outputs": [
    {
     "data": {
      "text/plain": [
       "['betty',\n",
       " 'botter',\n",
       " 'bought',\n",
       " 'some',\n",
       " 'butter',\n",
       " 'but',\n",
       " 'she',\n",
       " 'said',\n",
       " 'the',\n",
       " 'butter’s',\n",
       " 'bitter',\n",
       " 'if',\n",
       " 'i',\n",
       " 'put',\n",
       " 'it',\n",
       " 'in',\n",
       " 'my',\n",
       " 'batter,',\n",
       " 'it',\n",
       " 'will',\n",
       " 'make',\n",
       " 'my',\n",
       " 'batter',\n",
       " 'bitter',\n",
       " 'but',\n",
       " 'a',\n",
       " 'bit',\n",
       " 'of',\n",
       " 'better',\n",
       " 'butter',\n",
       " 'will',\n",
       " 'make',\n",
       " 'my',\n",
       " 'batter',\n",
       " 'better',\n",
       " 'so',\n",
       " '‘twas',\n",
       " 'better',\n",
       " 'betty',\n",
       " 'botter',\n",
       " 'bought',\n",
       " 'a',\n",
       " 'bit',\n",
       " 'of',\n",
       " 'better',\n",
       " 'butter']"
      ]
     },
     "execution_count": 35,
     "metadata": {},
     "output_type": "execute_result"
    }
   ],
   "source": [
    "xl.split() #splits from each space gap if nothing is mentioned for splitting"
   ]
  },
  {
   "cell_type": "code",
   "execution_count": 37,
   "id": "afa308a9",
   "metadata": {},
   "outputs": [
    {
     "data": {
      "text/plain": [
       "['betty',\n",
       " 'botter',\n",
       " 'bought',\n",
       " 'some',\n",
       " 'butter\\nbut',\n",
       " 'she said the butter’s bitter\\nif i put it in my batter, it will make my batter bitter\\nbut a bit of better butter will make my batter better\\nso ‘twas better betty botter bought a bit of better butter']"
      ]
     },
     "execution_count": 37,
     "metadata": {},
     "output_type": "execute_result"
    }
   ],
   "source": [
    "xl.split(' ', 5) #splits till 5th gap from left side of the string"
   ]
  },
  {
   "cell_type": "markdown",
   "id": "344857fd",
   "metadata": {},
   "source": [
    "## rsplit\n",
    " \n",
    "* It works like split only but from right side of the string.\n",
    "* we only can find difference between split and rsplit if the maxsplit is given because split works from left to right and rsplit works from right to left.\n",
    "\n",
    "#### Doc of rsplit"
   ]
  },
  {
   "cell_type": "code",
   "execution_count": 38,
   "id": "383c6092",
   "metadata": {},
   "outputs": [
    {
     "name": "stdout",
     "output_type": "stream",
     "text": [
      "Help on built-in function rsplit:\n",
      "\n",
      "rsplit(sep=None, maxsplit=-1) method of builtins.str instance\n",
      "    Return a list of the substrings in the string, using sep as the separator string.\n",
      "    \n",
      "      sep\n",
      "        The separator used to split the string.\n",
      "    \n",
      "        When set to None (the default value), will split on any whitespace\n",
      "        character (including \\\\n \\\\r \\\\t \\\\f and spaces) and will discard\n",
      "        empty strings from the result.\n",
      "      maxsplit\n",
      "        Maximum number of splits (starting from the left).\n",
      "        -1 (the default value) means no limit.\n",
      "    \n",
      "    Splitting starts at the end of the string and works to the front.\n",
      "\n"
     ]
    }
   ],
   "source": [
    "help(xl.rsplit)"
   ]
  },
  {
   "cell_type": "markdown",
   "id": "41b37c93",
   "metadata": {},
   "source": [
    "#### Example of rsplit"
   ]
  },
  {
   "cell_type": "code",
   "execution_count": 39,
   "id": "5bcbd685",
   "metadata": {},
   "outputs": [
    {
     "data": {
      "text/plain": [
       "['betty botter bought some butter\\nbut she said the butter’s bitter\\nif i put it in my batter, it will make my batter bitter\\nbut a bit of better butter will make my batter better\\nso ‘twas better betty botter bought a',\n",
       " 'bit',\n",
       " 'of',\n",
       " 'better',\n",
       " 'butter']"
      ]
     },
     "execution_count": 39,
     "metadata": {},
     "output_type": "execute_result"
    }
   ],
   "source": [
    "xl.rsplit(' ', 4) # Splitted from right to left of the string from space gaps"
   ]
  },
  {
   "cell_type": "code",
   "execution_count": 40,
   "id": "dedaa1b6",
   "metadata": {},
   "outputs": [
    {
     "data": {
      "text/plain": [
       "['I am', 'not', 'joking']"
      ]
     },
     "execution_count": 40,
     "metadata": {},
     "output_type": "execute_result"
    }
   ],
   "source": [
    "a = 'I am not joking'\n",
    "a.rsplit(' ', 2)"
   ]
  },
  {
   "cell_type": "markdown",
   "id": "734d00ee",
   "metadata": {},
   "source": [
    "## Partition and rpartition\n",
    "\n",
    "* Partition always parts string into 3 slices.\n",
    "* If there is nothing for partitioning then it gives an empty string.\n",
    "* So if we concatinate the strings then we always will get the original string.\n",
    "* Partition parts the string from left to right and similarly rpartition parts the string from right to left.\n",
    "\n",
    "#### Doc of partition"
   ]
  },
  {
   "cell_type": "code",
   "execution_count": 41,
   "id": "51690906",
   "metadata": {},
   "outputs": [
    {
     "name": "stdout",
     "output_type": "stream",
     "text": [
      "Help on built-in function partition:\n",
      "\n",
      "partition(sep, /) method of builtins.str instance\n",
      "    Partition the string into three parts using the given separator.\n",
      "    \n",
      "    This will search for the separator in the string.  If the separator is found,\n",
      "    returns a 3-tuple containing the part before the separator, the separator\n",
      "    itself, and the part after it.\n",
      "    \n",
      "    If the separator is not found, returns a 3-tuple containing the original string\n",
      "    and two empty strings.\n",
      "\n"
     ]
    }
   ],
   "source": [
    "help(xl.partition)"
   ]
  },
  {
   "cell_type": "code",
   "execution_count": 42,
   "id": "3c261f77",
   "metadata": {},
   "outputs": [
    {
     "name": "stdout",
     "output_type": "stream",
     "text": [
      "Help on built-in function rpartition:\n",
      "\n",
      "rpartition(sep, /) method of builtins.str instance\n",
      "    Partition the string into three parts using the given separator.\n",
      "    \n",
      "    This will search for the separator in the string, starting at the end. If\n",
      "    the separator is found, returns a 3-tuple containing the part before the\n",
      "    separator, the separator itself, and the part after it.\n",
      "    \n",
      "    If the separator is not found, returns a 3-tuple containing two empty strings\n",
      "    and the original string.\n",
      "\n"
     ]
    }
   ],
   "source": [
    "help(xl.rpartition)"
   ]
  },
  {
   "cell_type": "markdown",
   "id": "41e385eb",
   "metadata": {},
   "source": [
    "#### Example of partition and rpartition"
   ]
  },
  {
   "cell_type": "code",
   "execution_count": 45,
   "id": "6bb3964c",
   "metadata": {},
   "outputs": [
    {
     "data": {
      "text/plain": [
       "('I', ' ', 'am not joking')"
      ]
     },
     "execution_count": 45,
     "metadata": {},
     "output_type": "execute_result"
    }
   ],
   "source": [
    "a.partition(' ') #parted into 3 pieces from first space gap"
   ]
  },
  {
   "cell_type": "code",
   "execution_count": 47,
   "id": "a6897710",
   "metadata": {},
   "outputs": [
    {
     "data": {
      "text/plain": [
       "('I ', 'am', ' not joking')"
      ]
     },
     "execution_count": 47,
     "metadata": {},
     "output_type": "execute_result"
    }
   ],
   "source": [
    "a.partition('am') #parted from where am is given in the string"
   ]
  },
  {
   "cell_type": "code",
   "execution_count": 48,
   "id": "1f7da667",
   "metadata": {},
   "outputs": [
    {
     "data": {
      "text/plain": [
       "'betty botter bought some butter\\nbut she said the butter’s bitter\\nif i put it in my batter, it will make my batter bitter\\nbut a bit of better butter will make my batter better\\nso ‘twas better betty botter bought a bit of better butter'"
      ]
     },
     "execution_count": 48,
     "metadata": {},
     "output_type": "execute_result"
    }
   ],
   "source": [
    "xl"
   ]
  },
  {
   "cell_type": "code",
   "execution_count": 49,
   "id": "268f6ba6",
   "metadata": {},
   "outputs": [
    {
     "data": {
      "text/plain": [
       "('betty botter bought some butter\\nbut she said the butter’s bitter\\nif i put it in my batter, it will make my batter bitter\\nbut a bit of better butter will make my batter better\\nso ‘twas better betty botter bought a ',\n",
       " 'bit',\n",
       " ' of better butter')"
      ]
     },
     "execution_count": 49,
     "metadata": {},
     "output_type": "execute_result"
    }
   ],
   "source": [
    "xl.rpartition('bit') # converted whole string into 3 touples from right to left bcz its rpartition"
   ]
  },
  {
   "cell_type": "markdown",
   "id": "90046ddc",
   "metadata": {},
   "source": [
    "## Splitlines\n",
    "\n",
    "* It splits the string into lines as given."
   ]
  },
  {
   "cell_type": "markdown",
   "id": "d2bb2663",
   "metadata": {},
   "source": [
    "#### Doc of splitlines"
   ]
  },
  {
   "cell_type": "code",
   "execution_count": 50,
   "id": "2fcb008a",
   "metadata": {},
   "outputs": [
    {
     "name": "stdout",
     "output_type": "stream",
     "text": [
      "Help on built-in function splitlines:\n",
      "\n",
      "splitlines(keepends=False) method of builtins.str instance\n",
      "    Return a list of the lines in the string, breaking at line boundaries.\n",
      "    \n",
      "    Line breaks are not included in the resulting list unless keepends is given and\n",
      "    true.\n",
      "\n"
     ]
    }
   ],
   "source": [
    "help(xl.splitlines)"
   ]
  },
  {
   "cell_type": "markdown",
   "id": "ad0cf855",
   "metadata": {},
   "source": [
    "#### Example of splitlines"
   ]
  },
  {
   "cell_type": "code",
   "execution_count": 54,
   "id": "59b84bf0",
   "metadata": {},
   "outputs": [
    {
     "data": {
      "text/plain": [
       "['betty botter bought some butter',\n",
       " 'but she said the butter’s bitter',\n",
       " 'if i put it in my batter, it will make my batter bitter',\n",
       " 'but a bit of better butter will make my batter better',\n",
       " 'so ‘twas better betty botter bought a bit of better butter']"
      ]
     },
     "execution_count": 54,
     "metadata": {},
     "output_type": "execute_result"
    }
   ],
   "source": [
    "xl.splitlines() # whole string is splitted into lines"
   ]
  },
  {
   "cell_type": "code",
   "execution_count": null,
   "id": "2e945c4e",
   "metadata": {},
   "outputs": [],
   "source": []
  }
 ],
 "metadata": {
  "kernelspec": {
   "display_name": "Python 3 (ipykernel)",
   "language": "python",
   "name": "python3"
  },
  "language_info": {
   "codemirror_mode": {
    "name": "ipython",
    "version": 3
   },
   "file_extension": ".py",
   "mimetype": "text/x-python",
   "name": "python",
   "nbconvert_exporter": "python",
   "pygments_lexer": "ipython3",
   "version": "3.11.5"
  }
 },
 "nbformat": 4,
 "nbformat_minor": 5
}
